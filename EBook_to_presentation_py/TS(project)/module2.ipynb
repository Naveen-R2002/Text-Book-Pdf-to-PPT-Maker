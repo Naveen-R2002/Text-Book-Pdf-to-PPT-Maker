{
 "cells": [
  {
   "cell_type": "code",
   "execution_count": 1,
   "metadata": {},
   "outputs": [],
   "source": [
    "#..........................................Abstractive Summarizer....................................#\n",
    "import numpy as np\n",
    "import pandas as pd\n",
    "import os\n",
    "from gensim.summarization import summarize\n",
    "from sumy.utils import get_stop_words\n",
    "from sumy.nlp.stemmers import Stemmer\n",
    "from sumy.parsers.plaintext import PlaintextParser\n",
    "from sumy.nlp.tokenizers import Tokenizer as sumytoken\n",
    "from sumy.summarizers.lex_rank import LexRankSummarizer\n",
    "from sumy.utils import get_stop_words\n",
    "from sumy.nlp.stemmers import Stemmer\n",
    "from sumy.parsers.plaintext import PlaintextParser\n",
    "from sumy.nlp.tokenizers import Tokenizer as sumytoken\n",
    "from sumy.summarizers.lsa import LsaSummarizer as Summarizer\n",
    "from sumy.utils import get_stop_words\n",
    "from sumy.nlp.stemmers import Stemmer\n",
    "from sumy.parsers.plaintext import PlaintextParser\n",
    "from sumy.nlp.tokenizers import Tokenizer as sumytoken\n",
    "from sumy.summarizers.luhn import LuhnSummarizer"
   ]
  },
  {
   "cell_type": "code",
   "execution_count": 3,
   "metadata": {},
   "outputs": [],
   "source": [
    "def gensim_abstractive_summarizer(text):\n",
    "    return (summarize(text))\n",
    "\n",
    "def lexrank_abstractive_summarizer(text, stemmer, LANGUAGE, SENTENCES_COUNT):\n",
    "    parser = PlaintextParser.from_string((text), sumytoken(LANGUAGE))\n",
    "    summarizer_LexRank = LexRankSummarizer(stemmer)\n",
    "    summarizer_LexRank.stop_words = get_stop_words(LANGUAGE)\n",
    "    sentences = []\n",
    "    for sentence in summarizer_LexRank(parser.document, SENTENCES_COUNT):\n",
    "        a = sentence\n",
    "        sentences.append(str(a))\n",
    "    return \" \".join(sentences)\n",
    "\n",
    "def lsa_abstractive_summarizer(text, stemmer, LANGUAGE, SENTENCES_COUNT):\n",
    "    parser = PlaintextParser.from_string((text), sumytoken(LANGUAGE))\n",
    "    summarizer_lsa = Summarizer(stemmer)\n",
    "    summarizer_lsa.stop_words = get_stop_words(LANGUAGE)\n",
    "    sentences = []\n",
    "    for sentence in summarizer_lsa(parser.document, SENTENCES_COUNT):\n",
    "        a = sentence\n",
    "        sentences.append(str(a))\n",
    "    return \" \".join(sentences)\n",
    "\n",
    "def luhn_abstractive_summarizer(text, stemmer, LANGUAGE, SENTENCES_COUNT):\n",
    "    parser = PlaintextParser.from_string(text, sumytoken(LANGUAGE))\n",
    "    summarizer_luhn = LuhnSummarizer(stemmer)\n",
    "    summarizer_luhn.stop_words = get_stop_words(LANGUAGE)\n",
    "    sentences = []\n",
    "    for sentence in summarizer_luhn(parser.document, SENTENCES_COUNT):\n",
    "        a = sentence\n",
    "        sentences.append(str(a))\n",
    "    return \" \".join(sentences)"
   ]
  },
  {
   "cell_type": "code",
   "execution_count": 4,
   "metadata": {},
   "outputs": [
    {
     "name": "stderr",
     "output_type": "stream",
     "text": [
      "[nltk_data] Downloading package punkt to\n",
      "[nltk_data]     C:\\Users\\fgfdg\\AppData\\Roaming\\nltk_data...\n",
      "[nltk_data]   Package punkt is already up-to-date!\n"
     ]
    },
    {
     "data": {
      "text/plain": [
       "True"
      ]
     },
     "execution_count": 4,
     "metadata": {},
     "output_type": "execute_result"
    }
   ],
   "source": [
    "import nltk\n",
    "nltk.download('punkt')"
   ]
  },
  {
   "cell_type": "code",
   "execution_count": 5,
   "metadata": {},
   "outputs": [],
   "source": [
    "from sumy.nlp.stemmers import Stemmer\n",
    "\n",
    "LANGUAGE = \"english\"\n",
    "SENTENCES_COUNT = 2\n",
    "stemmer = Stemmer(LANGUAGE)\n",
    "#res='\"'\n",
    "#res1=\"\"\n",
    "with open(\"result.txt\",\"r\") as myfile:\n",
    "    text = myfile.read()\n",
    "    \n",
    "    #data = \"text\"\n",
    "    #res1+=data+\"\\n\"\n",
    "    #print(data)\n",
    "    #text = data.split[' ']\n",
    "#res=res+res1+'\"'\n",
    "#print(res)\n",
    "#text=res\n",
    "    #print(type(text)\n",
    "    #text ='fdxhjkjjhghgjhjhk fgfhjk',\n",
    "Abstractive_gensim_summary = gensim_abstractive_summarizer(text)\n",
    "Abstractive_lexrank_summary = lexrank_abstractive_summarizer(text, stemmer, LANGUAGE, SENTENCES_COUNT)\n",
    "Abstractive_lsa_summary = lsa_abstractive_summarizer(text, stemmer, LANGUAGE, SENTENCES_COUNT)\n",
    "Abstractive_luhn_summary = luhn_abstractive_summarizer(text, stemmer, LANGUAGE, SENTENCES_COUNT)"
   ]
  },
  {
   "cell_type": "code",
   "execution_count": 6,
   "metadata": {},
   "outputs": [
    {
     "name": "stdout",
     "output_type": "stream",
     "text": [
      "API-News:\n",
      "\n",
      "\n",
      "The contribution of cloud computing and mobile computing technologies lead to the newly emerging mobile cloud com- puting paradigm. Three major approaches have been pro- posed for mobile cloud applications: 1) extending the access to cloud services to mobile devices; 2) enabling mobile de- vices to work collaboratively as cloud resource providers; 3) augmenting the execution of mobile applications on portable devices using cloud resources. In this paper, we focus on the third approach in supporting mobile data stream applica- tions. More specifically, we study how to optimize the com- putation partitioning of a data stream application between mobile and cloud to achieve maximum speed/throughput in processing the streaming data. To the best of our knowledge, it is the first work to study the partitioning problem for mobile data stream applica- tions, where the optimization is placed on achieving high throughput of processing the streaming data rather than minimizing the makespan of executions as in other appli- cations. We first propose a framework to provide runtime support for the dynamic computation partitioning and exe- cution of the application. Different from existing works, the framework not only allows the dynamic partitioning for a single user but also supports the sharing of computation in- stances among multiple users in the cloud to achieve efficient utilization of the underlying cloud resources. Meanwhile, the framework has better scalability because it is designed on the elastic cloud fabrics. Based on the framework, we design a genetic algorithm for optimal computation parti- tion. Both numerical evaluation and real world experiment have beenperformed, and the results show that the par- titioned application can achieve at least two times better performance in terms of throughput than the application without partitioning.\n",
      "\n",
      "\n",
      "\n",
      "Simple Len_Text: 1867\n"
     ]
    }
   ],
   "source": [
    "print(\"API-News:\")\n",
    "print(\"\\n\")\n",
    "print(text)\n",
    "print(\"\\n\")\n",
    "print(\"Simple Len_Text:\",len(text))"
   ]
  },
  {
   "cell_type": "code",
   "execution_count": 7,
   "metadata": {},
   "outputs": [
    {
     "name": "stdout",
     "output_type": "stream",
     "text": [
      "\n",
      " Abstractive_gensim_summary:\n",
      " More specifically, we study how to optimize the com- putation partitioning of a data stream application between mobile and cloud to achieve maximum speed/throughput in processing the streaming data.\n",
      "To the best of our knowledge, it is the first work to study the partitioning problem for mobile data stream applica- tions, where the optimization is placed on achieving high throughput of processing the streaming data rather than minimizing the makespan of executions as in other appli- cations.\n",
      "\n",
      " Abstractive_lexrank_summary\n",
      " Three major approaches have been pro- posed for mobile cloud applications: 1) extending the access to cloud services to mobile devices; 2) enabling mobile de- vices to work collaboratively as cloud resource providers; 3) augmenting the execution of mobile applications on portable devices using cloud resources. In this paper, we focus on the third approach in supporting mobile data stream applica- tions.\n",
      "\n",
      " Abstractive_lsa_summary\n",
      " We first propose a framework to provide runtime support for the dynamic computation partitioning and exe- cution of the application. Different from existing works, the framework not only allows the dynamic partitioning for a single user but also supports the sharing of computation in- stances among multiple users in the cloud to achieve efficient utilization of the underlying cloud resources.\n",
      "\n",
      " Abstractive_luhn_summary\n",
      " Three major approaches have been pro- posed for mobile cloud applications: 1) extending the access to cloud services to mobile devices; 2) enabling mobile de- vices to work collaboratively as cloud resource providers; 3) augmenting the execution of mobile applications on portable devices using cloud resources. To the best of our knowledge, it is the first work to study the partitioning problem for mobile data stream applica- tions, where the optimization is placed on achieving high throughput of processing the streaming data rather than minimizing the makespan of executions as in other appli- cations.\n"
     ]
    }
   ],
   "source": [
    "print (\"\\n Abstractive_gensim_summary:\\n\",Abstractive_gensim_summary)\n",
    "print (\"\\n Abstractive_lexrank_summary\\n\",Abstractive_lexrank_summary)\n",
    "print (\"\\n Abstractive_lsa_summary\\n\",Abstractive_lsa_summary)\n",
    "print (\"\\n Abstractive_luhn_summary\\n\",Abstractive_luhn_summary)\n",
    "f = open(\"Abstractive_result.txt\",\"w\")\n",
    "print(Abstractive_lexrank_summary, file = f)\n",
    "f.close()"
   ]
  },
  {
   "cell_type": "code",
   "execution_count": 8,
   "metadata": {},
   "outputs": [
    {
     "name": "stdout",
     "output_type": "stream",
     "text": [
      "Display the Len of Abstractive Summary:\n",
      "\n",
      "\n",
      "Abstractive_gensim_summary: 495\n",
      "Abstractive_lexrank_summary: 406\n",
      "Abstractive_lsa_summary: 395\n",
      "Abstractive_luhn_summary: 608\n"
     ]
    }
   ],
   "source": [
    "print(\"Display the Len of Abstractive Summary:\")\n",
    "print(\"\\n\")\n",
    "print(\"Abstractive_gensim_summary:\",len(Abstractive_gensim_summary))\n",
    "print(\"Abstractive_lexrank_summary:\",len(Abstractive_lexrank_summary))\n",
    "print(\"Abstractive_lsa_summary:\",len(Abstractive_lsa_summary))\n",
    "print(\"Abstractive_luhn_summary:\",len(Abstractive_luhn_summary))"
   ]
  },
  {
   "cell_type": "code",
   "execution_count": null,
   "metadata": {},
   "outputs": [],
   "source": []
  }
 ],
 "metadata": {
  "kernelspec": {
   "display_name": "Python 3 (ipykernel)",
   "language": "python",
   "name": "python3"
  },
  "language_info": {
   "codemirror_mode": {
    "name": "ipython",
    "version": 3
   },
   "file_extension": ".py",
   "mimetype": "text/x-python",
   "name": "python",
   "nbconvert_exporter": "python",
   "pygments_lexer": "ipython3",
   "version": "3.9.12"
  }
 },
 "nbformat": 4,
 "nbformat_minor": 2
}
