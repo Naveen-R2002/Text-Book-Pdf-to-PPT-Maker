{
 "cells": [
  {
   "cell_type": "code",
   "execution_count": 1,
   "metadata": {},
   "outputs": [
    {
     "name": "stdout",
     "output_type": "stream",
     "text": [
      "https://newsapi.org/v2/top-headlines?country=in&category=politics&apiKey=009cde2458fd4ea0b50489a02ef38224\n",
      "{'status': 'ok', 'totalResults': 38, 'articles': [{'source': {'id': 'google-news', 'name': 'Google News'}, 'author': 'Indiatimes.com', 'title': 'From Elon Musk to Jennifer Anniston; celeb favorite fasting diet can increase your risk of cancer: Research - Indiatimes.com', 'description': None, 'url': 'https://news.google.com/rss/articles/CBMiwgFodHRwczovL20udGltZXNvZmluZGlhLmNvbS9saWZlLXN0eWxlL2hlYWx0aC1maXRuZXNzL3dlaWdodC1sb3NzL2Zyb20tZWxvbi1tdXNrLXRvLWplbm5pZmVyLWFubmlzdG9uLWNlbGViLWZhdm9yaXRlLWZhc3RpbmctZGlldC1jYW4taW5jcmVhc2UteW91ci1yaXNrLW9mLWNhbmNlci1yZXNlYXJjaC9waG90b3N0b3J5Lzk4MjM1MDQ1LmNtc9IByAFodHRwczovL20udGltZXNvZmluZGlhLmNvbS9saWZlLXN0eWxlL2hlYWx0aC1maXRuZXNzL3dlaWdodC1sb3NzL2Zyb20tZWxvbi1tdXNrLXRvLWplbm5pZmVyLWFubmlzdG9uLWNlbGViLWZhdm9yaXRlLWZhc3RpbmctZGlldC1jYW4taW5jcmVhc2UteW91ci1yaXNrLW9mLWNhbmNlci1yZXNlYXJjaC9hbXBfZXRwaG90b3N0b3J5Lzk4MjM1MDQ1LmNtcw?oc=5', 'urlToImage': None, 'publishedAt': '2023-02-25T17:30:00Z', 'content': None}, {'source': {'id': 'google-news', 'name': 'Google News'}, 'author': 'CarToq.com', 'title': '2023 Tata Harrier and Safari with ADAS launched: Prices and details announced - CarToq.com', 'description': None, 'url': 'https://news.google.com/rss/articles/CBMiR2h0dHBzOi8vd3d3LmNhcnRvcS5jb20vMjAyMy10YXRhLWhhcnJpZXItYW5kLXNhZmFyaS13aXRoLWFkYXMtbGF1bmNoZWQv0gFLaHR0cHM6Ly93d3cuY2FydG9xLmNvbS8yMDIzLXRhdGEtaGFycmllci1hbmQtc2FmYXJpLXdpdGgtYWRhcy1sYXVuY2hlZC9hbXAv?oc=5', 'urlToImage': None, 'publishedAt': '2023-02-25T17:19:30Z', 'content': None}, {'source': {'id': 'google-news', 'name': 'Google News'}, 'author': 'NDTV', 'title': 'No G20 Joint Statement After China Objects To Use Of \"War\" Over Ukraine - NDTV', 'description': None, 'url': 'https://news.google.com/rss/articles/CBMibWh0dHBzOi8vd3d3Lm5kdHYuY29tL3dvcmxkLW5ld3Mvbm8tZzIwLWpvaW50LXN0YXRlbWVudC1hZnRlci1jaGluYS1vYmplY3RzLXRvLXVzZS1vZi13YXItb3Zlci11a3JhaW5lLTM4MTQ0NjfSAXNodHRwczovL3d3dy5uZHR2LmNvbS93b3JsZC1uZXdzL25vLWcyMC1qb2ludC1zdGF0ZW1lbnQtYWZ0ZXItY2hpbmEtb2JqZWN0cy10by11c2Utb2Ytd2FyLW92ZXItdWtyYWluZS0zODE0NDY3L2FtcC8x?oc=5', 'urlToImage': None, 'publishedAt': '2023-02-25T16:22:54Z', 'content': None}, {'source': {'id': 'google-news', 'name': 'Google News'}, 'author': 'Investing.com', 'title': \"Buffett's Berkshire posts record annual operating profit By Reuters - Investing.com\", 'description': None, 'url': 'https://news.google.com/rss/articles/CBMicmh0dHBzOi8vd3d3LmludmVzdGluZy5jb20vbmV3cy9zdG9jay1tYXJrZXQtbmV3cy9idWZmZXR0cy1iZXJrc2hpcmUtcHJvZml0LWZhbGxzLW9uLWludmVzdG1lbnRzLWN1cnJlbmNpZXMtMzAxNDYxMNIBAA?oc=5', 'urlToImage': None, 'publishedAt': '2023-02-25T16:20:00Z', 'content': None}, {'source': {'id': 'google-news', 'name': 'Google News'}, 'author': 'Hindustan Times', 'title': \"Tharoor targets Jaishankar over foreign policy, China issue: 'Shocking to hear…' - Hindustan Times\", 'description': None, 'url': 'https://news.google.com/rss/articles/CBMiigFodHRwczovL3d3dy5oaW5kdXN0YW50aW1lcy5jb20vaW5kaWEtbmV3cy90aGFyb29yLXRhcmdldHMtamFpc2hhbmthci1vdmVyLWZvcmVpZ24tcG9saWN5LWNoaW5hLWlzc3VlLXNob2NraW5nLXRvLWhlYXItMTAxNjc3MzM3MjcyMDU1Lmh0bWzSAY4BaHR0cHM6Ly93d3cuaGluZHVzdGFudGltZXMuY29tL2luZGlhLW5ld3MvdGhhcm9vci10YXJnZXRzLWphaXNoYW5rYXItb3Zlci1mb3JlaWduLXBvbGljeS1jaGluYS1pc3N1ZS1zaG9ja2luZy10by1oZWFyLTEwMTY3NzMzNzI3MjA1NS1hbXAuaHRtbA?oc=5', 'urlToImage': None, 'publishedAt': '2023-02-25T16:19:45Z', 'content': None}, {'source': {'id': 'google-news', 'name': 'Google News'}, 'author': 'Moneycontrol', 'title': 'G20: Some members said crypto ban should be considered, says RBI Governor Das - Moneycontrol', 'description': None, 'url': 'https://news.google.com/rss/articles/CBMihAFodHRwczovL3d3dy5tb25leWNvbnRyb2wuY29tL25ld3MvYnVzaW5lc3MvZzIwLXNvbWUtbWVtYmVycy1zYWlkLWNyeXB0by1iYW4tc2hvdWxkLWJlLWNvbnNpZGVyZWQtc2F5cy1yYmktZ292ZXJub3ItZGFzLTEwMTYwMTkxLmh0bWzSAYgBaHR0cHM6Ly93d3cubW9uZXljb250cm9sLmNvbS9uZXdzL2J1c2luZXNzL2cyMC1zb21lLW1lbWJlcnMtc2FpZC1jcnlwdG8tYmFuLXNob3VsZC1iZS1jb25zaWRlcmVkLXNheXMtcmJpLWdvdmVybm9yLWRhcy0xMDE2MDE5MS5odG1sL2FtcA?oc=5', 'urlToImage': None, 'publishedAt': '2023-02-25T15:53:36Z', 'content': None}, {'source': {'id': 'google-news', 'name': 'Google News'}, 'author': 'NDTV', 'title': '\"Enough, BJP\\'s Doors Closed Forever For Nitish Kumar\": Amit Shah In Bihar - NDTV', 'description': None, 'url': 'https://news.google.com/rss/articles/CBMicmh0dHBzOi8vd3d3Lm5kdHYuY29tL2luZGlhLW5ld3Mvbml0aXNoLWt1bWFyLWpvaW5lZC1oYW5kcy13aXRoLWNvbmdyZXNzLXJqZC1mb3ItaGlzLXBtLWFtYml0aW9ucy1hbWl0LXNoYWgtMzgxMzQ0NdIBeGh0dHBzOi8vd3d3Lm5kdHYuY29tL2luZGlhLW5ld3Mvbml0aXNoLWt1bWFyLWpvaW5lZC1oYW5kcy13aXRoLWNvbmdyZXNzLXJqZC1mb3ItaGlzLXBtLWFtYml0aW9ucy1hbWl0LXNoYWgtMzgxMzQ0NS9hbXAvMQ?oc=5', 'urlToImage': None, 'publishedAt': '2023-02-25T15:41:00Z', 'content': None}, {'source': {'id': 'google-news', 'name': 'Google News'}, 'author': 'Indiatimes.com', 'title': 'People live longer if they workout in the afternoon, claims study - Indiatimes.com', 'description': None, 'url': 'https://news.google.com/rss/articles/CBMilgFodHRwczovL20udGltZXNvZmluZGlhLmNvbS9saWZlLXN0eWxlL2hlYWx0aC1maXRuZXNzL2ZpdG5lc3MvcGVvcGxlLWxpdmUtbG9uZ2VyLWlmLXRoZXktd29ya291dC1pbi10aGUtYWZ0ZXJub29uLWNsYWltcy1zdHVkeS9hcnRpY2xlc2hvdy85ODIxNzIxNC5jbXPSAZoBaHR0cHM6Ly9tLnRpbWVzb2ZpbmRpYS5jb20vbGlmZS1zdHlsZS9oZWFsdGgtZml0bmVzcy9maXRuZXNzL3Blb3BsZS1saXZlLWxvbmdlci1pZi10aGV5LXdvcmtvdXQtaW4tdGhlLWFmdGVybm9vbi1jbGFpbXMtc3R1ZHkvYW1wX2FydGljbGVzaG93Lzk4MjE3MjE0LmNtcw?oc=5', 'urlToImage': None, 'publishedAt': '2023-02-25T15:30:00Z', 'content': None}, {'source': {'id': 'google-news', 'name': 'Google News'}, 'author': 'mid-day.com', 'title': 'Michel Cymes Keto Gummies AVIS FR [NEW UPDATED 2023] Revolutionary Product of FRANCE | Must Check Benefits, Side Effects & Where to Buy in FR? - mid-day.com', 'description': None, 'url': 'https://news.google.com/rss/articles/CBMifWh0dHBzOi8vd3d3Lm1pZC1kYXkuY29tL2JyYW5kLW1lZGlhL2FydGljbGUvbWljaGVsLWN5bWVzLWtldG8tZ3VtbWllcy1hdmlzLWZyLW5ldy11cGRhdGVkLTIwMjMtcmV2b2x1dGlvbmFyeS1wcm9kdWN0LTIzMjcyMzAy0gGBAWh0dHBzOi8vd3d3Lm1pZC1kYXkuY29tL2FtcC9icmFuZC1tZWRpYS9hcnRpY2xlL21pY2hlbC1jeW1lcy1rZXRvLWd1bW1pZXMtYXZpcy1mci1uZXctdXBkYXRlZC0yMDIzLXJldm9sdXRpb25hcnktcHJvZHVjdC0yMzI3MjMwMg?oc=5', 'urlToImage': None, 'publishedAt': '2023-02-25T15:15:00Z', 'content': None}, {'source': {'id': 'google-news', 'name': 'Google News'}, 'author': 'Hindustan Times', 'title': 'Kiara Advani shares first post as she returns to work weeks after her wedding - Hindustan Times', 'description': None, 'url': 'https://news.google.com/rss/articles/CBMirgFodHRwczovL3d3dy5oaW5kdXN0YW50aW1lcy5jb20vZW50ZXJ0YWlubWVudC9ib2xseXdvb2Qva2lhcmEtYWR2YW5pLXNoYXJlcy1maXJzdC1wb3N0LWFzLXNoZS1yZXR1cm5zLXRvLXdvcmstd2Vla3MtYWZ0ZXItaGVyLXdlZGRpbmctdG8tc2lkaGFydGgtbWFsaG90cmEtMTAxNjc3MzM0NDM5Njk1Lmh0bWzSAbIBaHR0cHM6Ly93d3cuaGluZHVzdGFudGltZXMuY29tL2VudGVydGFpbm1lbnQvYm9sbHl3b29kL2tpYXJhLWFkdmFuaS1zaGFyZXMtZmlyc3QtcG9zdC1hcy1zaGUtcmV0dXJucy10by13b3JrLXdlZWtzLWFmdGVyLWhlci13ZWRkaW5nLXRvLXNpZGhhcnRoLW1hbGhvdHJhLTEwMTY3NzMzNDQzOTY5NS1hbXAuaHRtbA?oc=5', 'urlToImage': None, 'publishedAt': '2023-02-25T14:38:53Z', 'content': None}, {'source': {'id': 'google-news', 'name': 'Google News'}, 'author': 'The Indian Express', 'title': 'Sonia Gandhi talks about ‘end of innings’: The story of how the reluctant politician turned into Congress power centre - The Indian Express', 'description': None, 'url': 'https://news.google.com/rss/articles/CBMilAFodHRwczovL2luZGlhbmV4cHJlc3MuY29tL2FydGljbGUvZXhwbGFpbmVkL2V4cGxhaW5lZC1wb2xpdGljcy9zb25pYS1nYW5kaGktdGFsa3MtYWJvdXQtZW5kLW9mLWlubmluZ3MtdGhlLXN0b3J5LW9mLWhvdy1zaGUtam9pbmVkLXBvbGl0aWNzLTg0NjY2MjEv0gGZAWh0dHBzOi8vaW5kaWFuZXhwcmVzcy5jb20vYXJ0aWNsZS9leHBsYWluZWQvZXhwbGFpbmVkLXBvbGl0aWNzL3NvbmlhLWdhbmRoaS10YWxrcy1hYm91dC1lbmQtb2YtaW5uaW5ncy10aGUtc3Rvcnktb2YtaG93LXNoZS1qb2luZWQtcG9saXRpY3MtODQ2NjYyMS9saXRlLw?oc=5', 'urlToImage': None, 'publishedAt': '2023-02-25T14:33:42Z', 'content': None}, {'source': {'id': 'google-news', 'name': 'Google News'}, 'author': 'physicsworld.com', 'title': \"'Volatile' elements in inner solar system have several different origins – Physics World - physicsworld.com\", 'description': None, 'url': 'https://news.google.com/rss/articles/CBMiYmh0dHBzOi8vcGh5c2ljc3dvcmxkLmNvbS9hL3ZvbGF0aWxlLWVsZW1lbnRzLWluLWlubmVyLXNvbGFyLXN5c3RlbS1oYXZlLXNldmVyYWwtZGlmZmVyZW50LW9yaWdpbnMv0gEA?oc=5', 'urlToImage': None, 'publishedAt': '2023-02-25T14:33:18Z', 'content': None}, {'source': {'id': 'google-news', 'name': 'Google News'}, 'author': 'ESPNcricinfo', 'title': \"Match Preview - SA WMN vs AUS WMN, ICC Women's T20 World Cup 2022/23, Final - ESPNcricinfo\", 'description': None, 'url': 'https://news.google.com/rss/articles/CBMijwFodHRwczovL3d3dy5lc3BuY3JpY2luZm8uY29tL3Nlcmllcy9pY2Mtd29tZW4tcy10MjAtd29ybGQtY3VwLTIwMjItMjMtMTMzODAzNy9zb3V0aC1hZnJpY2Etd29tZW4tdnMtYXVzdHJhbGlhLXdvbWVuLWZpbmFsLTEzMzgwNjIvbWF0Y2gtcHJldmlld9IBAA?oc=5', 'urlToImage': None, 'publishedAt': '2023-02-25T14:16:58Z', 'content': None}, {'source': {'id': 'google-news', 'name': 'Google News'}, 'author': 'The Hindu', 'title': 'Iran still seeking to kill Trump, general says - The Hindu', 'description': None, 'url': 'https://news.google.com/rss/articles/CBMibWh0dHBzOi8vd3d3LnRoZWhpbmR1LmNvbS9uZXdzL2ludGVybmF0aW9uYWwvaXJhbi1zdGlsbC1zZWVraW5nLXRvLWtpbGwtdHJ1bXAtZ2VuZXJhbC1zYXlzL2FydGljbGU2NjU1MzI2NS5lY2XSAXJodHRwczovL3d3dy50aGVoaW5kdS5jb20vbmV3cy9pbnRlcm5hdGlvbmFsL2lyYW4tc3RpbGwtc2Vla2luZy10by1raWxsLXRydW1wLWdlbmVyYWwtc2F5cy9hcnRpY2xlNjY1NTMyNjUuZWNlL2FtcC8?oc=5', 'urlToImage': None, 'publishedAt': '2023-02-25T14:14:00Z', 'content': None}, {'source': {'id': 'google-news', 'name': 'Google News'}, 'author': 'India Today', 'title': \"6.1 magnitude earthquake hits Japan's Hokkaido - India Today\", 'description': None, 'url': 'https://news.google.com/rss/articles/CBMiZWh0dHBzOi8vd3d3LmluZGlhdG9kYXkuaW4vd29ybGQvc3RvcnkvNjEtbWFnbml0dWRlLWVhcnRocXVha2UtaGl0cy1qYXBhbnMtaG9ra2FpZG8tMjMzOTU5NC0yMDIzLTAyLTI10gEA?oc=5', 'urlToImage': None, 'publishedAt': '2023-02-25T13:59:45Z', 'content': None}, {'source': {'id': 'google-news', 'name': 'Google News'}, 'author': 'Mint', 'title': 'Hindenburg fallout: LIC share price tanks 17% in a month, shareholding value in Adani stocks drops ₹48,600 cr | Mint - Mint', 'description': None, 'url': 'https://news.google.com/rss/articles/CBMisgFodHRwczovL3d3dy5saXZlbWludC5jb20vbWFya2V0L3N0b2NrLW1hcmtldC1uZXdzL2hpbmRlbmJ1cmctZmFsbG91dC1saWMtc2hhcmUtcHJpY2UtdGFua3MtMTctaW4tYS1tb250aC1zaGFyZWhvbGRpbmctdmFsdWUtaW4tYWRhbmktc3RvY2tzLWRyb3BzLXJzLTQ4LTYwMC1jci0xMTY3NzMyODEyNjcyMy5odG1s0gG2AWh0dHBzOi8vd3d3LmxpdmVtaW50LmNvbS9tYXJrZXQvc3RvY2stbWFya2V0LW5ld3MvaGluZGVuYnVyZy1mYWxsb3V0LWxpYy1zaGFyZS1wcmljZS10YW5rcy0xNy1pbi1hLW1vbnRoLXNoYXJlaG9sZGluZy12YWx1ZS1pbi1hZGFuaS1zdG9ja3MtZHJvcHMtcnMtNDgtNjAwLWNyL2FtcC0xMTY3NzMyODEyNjcyMy5odG1s?oc=5', 'urlToImage': None, 'publishedAt': '2023-02-25T13:48:33Z', 'content': None}, {'source': {'id': 'google-news', 'name': 'Google News'}, 'author': 'Bar & Bench - Indian Legal News', 'title': 'Delhi High Court stays order of MCD mayor Shelly Oberoi for fresh elections to Standing Committee - Bar & Bench - Indian Legal News', 'description': None, 'url': 'https://news.google.com/rss/articles/CBMigwFodHRwczovL3d3dy5iYXJhbmRiZW5jaC5jb20vbmV3cy9saXRpZ2F0aW9uL2RlbGhpLWhpZ2gtY291cnQtc3RheXMtb3JkZXItbWNkLW1heW9yLXNoZWxseS1vYmVyb2ktZnJlc2gtZWxlY3Rpb25zLXN0YW5kaW5nLWNvbW1pdHRlZdIBjQFodHRwczovL3d3dy5iYXJhbmRiZW5jaC5jb20vYW1wL3N0b3J5L25ld3MvbGl0aWdhdGlvbi9kZWxoaS1oaWdoLWNvdXJ0LXN0YXlzLW9yZGVyLW1jZC1tYXlvci1zaGVsbHktb2Jlcm9pLWZyZXNoLWVsZWN0aW9ucy1zdGFuZGluZy1jb21taXR0ZWU?oc=5', 'urlToImage': None, 'publishedAt': '2023-02-25T13:36:16Z', 'content': None}, {'source': {'id': 'google-news', 'name': 'Google News'}, 'author': 'Hindustan Times', 'title': 'Adani Group firm removed from ‘under observation’ by US rating agency: Report - Hindustan Times', 'description': None, 'url': 'https://news.google.com/rss/articles/CBMingFodHRwczovL3d3dy5oaW5kdXN0YW50aW1lcy5jb20vYnVzaW5lc3MvYWRhbmktZ3JvdXAtZmlybS1hZGFuaS1ncmVlbi1yZW1vdmVkLWZyb20tdW5kZXItb2JzZXJ2YXRpb24tYnktdXMtcmF0aW5nLWFnZW5jeS1zLXAtZ2xvYmFsLXJlcG9ydC0xMDE2NzczMjgxMjYyNDcuaHRtbNIBogFodHRwczovL3d3dy5oaW5kdXN0YW50aW1lcy5jb20vYnVzaW5lc3MvYWRhbmktZ3JvdXAtZmlybS1hZGFuaS1ncmVlbi1yZW1vdmVkLWZyb20tdW5kZXItb2JzZXJ2YXRpb24tYnktdXMtcmF0aW5nLWFnZW5jeS1zLXAtZ2xvYmFsLXJlcG9ydC0xMDE2NzczMjgxMjYyNDctYW1wLmh0bWw?oc=5', 'urlToImage': None, 'publishedAt': '2023-02-25T12:46:40Z', 'content': None}, {'source': {'id': 'google-news', 'name': 'Google News'}, 'author': 'NDTV', 'title': 'Ye Hai Mohabbatein Actor Ribbhu Mehra Marries Kirtida Mistry - NDTV', 'description': None, 'url': 'https://news.google.com/rss/articles/CBMidmh0dHBzOi8vd3d3Lm5kdHYuY29tL2VudGVydGFpbm1lbnQva2lydGlkYS1taXN0cnktbWFycmllcy1sb25nLXRlcm0tYm95ZnJpZW5kLXJpYmJodS1tZWhyYS1pbi1hLWRyZWFteS13ZWRkaW5nLTM4MTM4MTbSAXxodHRwczovL3d3dy5uZHR2LmNvbS9lbnRlcnRhaW5tZW50L2tpcnRpZGEtbWlzdHJ5LW1hcnJpZXMtbG9uZy10ZXJtLWJveWZyaWVuZC1yaWJiaHUtbWVocmEtaW4tYS1kcmVhbXktd2VkZGluZy0zODEzODE2L2FtcC8x?oc=5', 'urlToImage': None, 'publishedAt': '2023-02-25T12:14:00Z', 'content': None}, {'source': {'id': 'google-news', 'name': 'Google News'}, 'author': 'India Today', 'title': 'Those who took Guru Granth Sahib to police station...: Punjab CM Mann breaks silence on Amritpal - India Today', 'description': None, 'url': 'https://news.google.com/rss/articles/CBMilAFodHRwczovL3d3dy5pbmRpYXRvZGF5LmluL2luZGlhL3N0b3J5L3B1bmphYi1jbS1iaGFnd2FudC1tYW5uLXJlYWN0cy10by1hbXJpdHBhbC1zaW5naC1haWRlcy1jYXJyeWluZy1ob2x5LWJvb2stdG8tcG9saWNlLXN0YXRpb24tMjMzOTU0Ni0yMDIzLTAyLTI10gEA?oc=5', 'urlToImage': None, 'publishedAt': '2023-02-25T11:50:32Z', 'content': None}]}\n"
     ]
    }
   ],
   "source": [
    "#......................................... News API..................................................................#\n",
    "import requests\n",
    "import json\n",
    "url = ('https://newsapi.org/v2/top-headlines?'\n",
    "       'sources=bbc-news&'\n",
    "       'apiKey=009cde2458fd4ea0b50489a02ef38224')\n",
    "catg=\"politics\"\n",
    "sub_catg=\"Election\"\n",
    "\n",
    "d={\n",
    "    'url_sports':'https://newsapi.org/v2/top-headlines?country=in&category=sports&apiKey=009cde2458fd4ea0b50489a02ef38224',\n",
    "    'url_pol':'https://newsapi.org/v2/top-headlines?country=in&category=politics&apiKey=009cde2458fd4ea0b50489a02ef38224'\n",
    "       \n",
    "}\n",
    "url=''\n",
    "\n",
    "if (catg==\"politics\"):\n",
    "    url=d['url_pol']\n",
    "       \n",
    "    \n",
    "\n",
    "print(url)\n",
    "    \n",
    "\n",
    "\n",
    "url1=('https://newsapi.org/v2/top-headlines?country=in&apiKey=009cde2458fd4ea0b50489a02ef38224')\n",
    "url_sports=('https://newsapi.org/v2/top-headlines?country=in&category=sports&apiKey=009cde2458fd4ea0b50489a02ef38224')\n",
    "url_business=('https://newsapi.org/v2/top-headlines?country=in&category=business&apiKey=009cde2458fd4ea0b50489a02ef38224')\n",
    "url_ent=('https://newsapi.org/v2/top-headlines?country=in&category=entertainment&apiKey=009cde2458fd4ea0b50489a02ef38224')\n",
    "url_health=('https://newsapi.org/v2/top-headlines?country=in&category=health&apiKey=009cde2458fd4ea0b50489a02ef38224')\n",
    "url_science=('https://newsapi.org/v2/top-headlines?country=in&category=science&apiKey=009cde2458fd4ea0b50489a02ef38224')\n",
    "url_tech=('https://newsapi.org/v2/top-headlines?country=in&category=technology&apiKey=009cde2458fd4ea0b50489a02ef38224')\n",
    "url_pol=('https://newsapi.org/v2/top-headlines?country=in&category=politics&apiKey=009cde2458fd4ea0b50489a02ef38224')\n",
    "response = requests.get(url)\n",
    "data=response.json()\n",
    "print (data)\n",
    "with open('personal.json', 'w') as json_file:\n",
    "    json.dump(data, json_file)\n",
    "\n"
   ]
  },
  {
   "cell_type": "code",
   "execution_count": 2,
   "metadata": {
    "scrolled": true
   },
   "outputs": [
    {
     "name": "stdout",
     "output_type": "stream",
     "text": [
      "None\n",
      "None\n",
      "None\n",
      "None\n",
      "None\n",
      "None\n",
      "None\n",
      "None\n",
      "None\n",
      "None\n",
      "None\n",
      "None\n",
      "None\n",
      "None\n",
      "None\n",
      "None\n",
      "None\n",
      "None\n",
      "None\n",
      "None\n"
     ]
    }
   ],
   "source": [
    "import json\n",
    "sub_catg=\"Election\"\n",
    "result=\"\"\n",
    "c=0\n",
    "with open('personal.json') as json_file:\n",
    "    data = json.load(json_file)\n",
    "    for p in data[\"articles\"]:\n",
    "        #print('source:',p['source'])\n",
    "        #print('author:',p['author'])\n",
    "        #print('title:',p['title'])\n",
    "        #f = open(\"News_Titel.txt\",\"a\")\n",
    "        #print(p['title'],file = f)\n",
    "        #f.close()\n",
    "        str1 = p['content']\n",
    "        #cont = str p['content']\n",
    "        #print(str1)\n",
    "        #print(type(str1),type(sub_catg))\n",
    "        try:\n",
    "            if (sub_catg in str1):\n",
    "                c+=1\n",
    "                print(c)\n",
    "                result+=str1+\"\\n\"\n",
    "        except:\n",
    "            #print(\"none\")\n",
    "            print(str1)\n",
    "\n",
    "f = open(\"News_content.txt\",\"w\")\n",
    "print(result,file = f)\n",
    "f.close()        \n",
    "\n"
   ]
  },
  {
   "cell_type": "code",
   "execution_count": 3,
   "metadata": {},
   "outputs": [],
   "source": [
    "with open(\"temp.txt\",\"r\") as myfile:\n",
    "    temp = myfile.read()\n",
    "    #print(temp)\n",
    "    f = open(\"result.txt\",\"w\")\n",
    "    print(result + temp, file= f)\n",
    "    f.close()\n",
    "    "
   ]
  },
  {
   "cell_type": "code",
   "execution_count": null,
   "metadata": {},
   "outputs": [],
   "source": []
  }
 ],
 "metadata": {
  "kernelspec": {
   "display_name": "Python 3 (ipykernel)",
   "language": "python",
   "name": "python3"
  },
  "language_info": {
   "codemirror_mode": {
    "name": "ipython",
    "version": 3
   },
   "file_extension": ".py",
   "mimetype": "text/x-python",
   "name": "python",
   "nbconvert_exporter": "python",
   "pygments_lexer": "ipython3",
   "version": "3.9.12"
  }
 },
 "nbformat": 4,
 "nbformat_minor": 2
}
